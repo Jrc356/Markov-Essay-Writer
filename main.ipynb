{
 "cells": [
  {
   "cell_type": "markdown",
   "metadata": {},
   "source": [
    "# Import markovify as markov chain engine"
   ]
  },
  {
   "cell_type": "code",
   "execution_count": 142,
   "metadata": {},
   "outputs": [],
   "source": [
    "import markovify\n",
    "STATE_SIZE = 2\n",
    "NUM_STORIES = 5\n",
    "#INIT_STATE = (\"I\", \"am\")"
   ]
  },
  {
   "cell_type": "markdown",
   "metadata": {},
   "source": [
    "# Get file names"
   ]
  },
  {
   "cell_type": "code",
   "execution_count": 143,
   "metadata": {},
   "outputs": [],
   "source": [
    "data_loc = r\"C:\\Users\\Jon\\Desktop\\Projects\\Coding\\AI\\Markov essay writer\\Data\"\n",
    "import os\n",
    "*top, walk = os.walk(data_loc)\n",
    "files = walk[2]"
   ]
  },
  {
   "cell_type": "markdown",
   "metadata": {},
   "source": [
    "# Read in text from each file\n",
    "### Creating a list of lists of lines from each file"
   ]
  },
  {
   "cell_type": "code",
   "execution_count": 144,
   "metadata": {},
   "outputs": [],
   "source": [
    "text = []\n",
    "for file in files:\n",
    "    with open(data_loc + \"\\\\\" + file) as f:\n",
    "        lines = f.readlines()\n",
    "        text.append(lines)"
   ]
  },
  {
   "cell_type": "markdown",
   "metadata": {},
   "source": [
    "# Split each line of each file into a list of individual words from each text"
   ]
  },
  {
   "cell_type": "code",
   "execution_count": 145,
   "metadata": {},
   "outputs": [],
   "source": [
    "split_text = []\n",
    "for t in text:\n",
    "    split_text.append(\"\".join(t).split(\" \"))"
   ]
  },
  {
   "cell_type": "code",
   "execution_count": 146,
   "metadata": {},
   "outputs": [],
   "source": [
    "#Create a list of markov chains for combination\n",
    "chains = []\n",
    "for t in split_text:\n",
    "    chains.append(markovify.Chain(split_text, state_size=STATE_SIZE))"
   ]
  },
  {
   "cell_type": "code",
   "execution_count": 147,
   "metadata": {},
   "outputs": [],
   "source": [
    "#Combine all chains\n",
    "chain = markovify.combine(chains)\n",
    "#Generate stories\n",
    "stories = []\n",
    "for i in range(NUM_STORIES):\n",
    "    if INIT_STATE:\n",
    "        gen = [i for i in chain.gen(init_state=INIT_STATE)]\n",
    "    else:\n",
    "        gen = [i for i in chain.gen()]\n",
    "        \n",
    "    stories.append(\" \".join(gen))"
   ]
  },
  {
   "cell_type": "code",
   "execution_count": 148,
   "metadata": {
    "scrolled": false
   },
   "outputs": [
    {
     "name": "stdout",
     "output_type": "stream",
     "text": [
      "I am still amazed at my school to resemble my favorite dish: the hummus-tabouli wrap.\n",
      "\n",
      "…and Johns Hopkins will help me make my own replies to decades-old thoughts in the local Polish community by volunteering in the deluge of admissions pamphlets; that’s because I held the Eastern Bloc’s first truly democratic elections, and the times I was looking at a center that provides temporary housing for homeless women and preschool education for their children. There, I observed many kinds of movement (such as direction or speed in all three dimensions) to a modern European democracy. Twenty years ago, Poland held the Eastern Bloc’s first truly democratic elections, and the times I was happy, and the outdoors. My passion for American literature and utilize the resources around me, just as important as the Center for Advanced Metallic and Ceramic Systems. Under the guidance of our childhood wandering around the café. Expressions of this top shelf, and they are the reason I was no longer have to tie strips of fabric onto public buses to know ourselves, even if we had a box. The majority of my sophomore year I joined a club called buildOn that focuses on breaking the cycle of poverty, illiteracy, and low expectations through service and education. Little did I know, just twenty-two months and $57,794 of fundraising later, I’d be headed on a piece of paper,” is what an uninformed person might say, someone who has never interacted with anything so large, and I care about being a “superior” individual. As charming of a farm-boy freshman. The world during that time became much smaller for me: my father, just months later, left for college. This brought my family’s basic expenses by babysitting and tutoring other college students in math or chemistry.\n",
      "\n",
      "While I am given the opportunity presented itself. This spurred in me an interest for how public policy and government class, at the lunch table and family with scientific facts about manatees-- such as the middle child in my power to make sense of purpose in my place?\n",
      "\n",
      "It seems there comes a time, in secret, the summer after sophomore year, my passion for the political sciences, fostered by the evening in spring 2003 when American bombs ignited Baghdad. The dormitory dining hall’s eyes gaped at the Oslo International School, with my platform of creating a web-based application that synthesizes music based on interactions with one another. I found myself dismayed by my prosthetic eye, purposely pushing my hair away from my parents who met during their doctoral studies at Johns Hopkins. Hopkins students don’t submit themselves to demanding internships or research due to low family income. To reduce family burden, I took out student loans to pay for my medical degree. Therefore, I am remains unnoticed at first glance, is one of fluid counterbalance. The various homes that welcomed me, often last-minute with my robotics team, and in some self online learning courses outside the box in considering my application. \n",
      "---------------------------------------------------------\n",
      "\n",
      "\n",
      "I am disturbed that not all lives are valued equally. I cannot identify what sparked its conception, but as a tutor and classroom assistant at various elementary schools, focusing on working with U.S. intelligence in Iraq, often emailed me in the hours I’ve spent with my wife of eight years, and also discovered that students who are suspended after only one offense often drop out and providing aid for those who seek it has reinforced my inspiration to take a bus to the creation of a second village’s first school!\n",
      "\n",
      "The experiences of immersing myself in jewelry constructed out of the many endeavors I have always aspired to learn more. I read Jane Eyre had everything a romantic eight-year-old could desire. The subtext was over my head, but I was inspired to continue to tell these stories and to produce successful budgets. I also taught at the University of Michigan Ann Arbor. With your help, I will engage with the cutting-edge information technology. Although I am not alone on the ceiling, I was walking by my perpetually empty locker, I was on a plane to the Save the Manatee and Sea World, I fell in love with my robotics team, and in my family, I was faced with the weight of the conflict, I ignored the broadcast with defiant ignorance. As the bombs flattened, so did my budding global perspective; simply put, not knowing the details of the solution of different problems.\n",
      "\n",
      "Beyond the classroom, and through global health work. I am not only enhanced my project management skills, but also developed my skills in a way that I may have been labeled as such.\n",
      "\n",
      "It was all so cool that I have two beautiful children—our daughter Sue is six, and our son Josh is three. My marriage and the modern. After spending this spring working in Iraq and this summer aligned with my father’s homeland. I want to help them learn more about myself than I ever had before. I know that all of its ingredients, which when combined, bring to it a taste of my injury, I was not indestructible. This revelation, along with much prompting from my green-thumbed mother that strawberries are among the easiest fruits to grow. Many students and teachers as they wrap themselves in layer after layer of flannel, make no mistake, today is the thing that limits me, that keeps me from fully expressing my musical ideas.\n",
      "\n",
      "As a way to change people’s perspectives and ideas about the growing needs of people. Furthermore, receiving this scholarship will certainly strengthen my opportunity to help improve the academic community as a person become the parent of seven carnivorous plants?” and I look forward to performing on an ancient Canaanite archaeological dig outside Jerusalem, my journey will have been rewards in themselves, but I use my specialized information technology skills combined with strong business background to help improve the livelihoods of developing nations through sustainable development and good fortune. Why is it hateful?”\n",
      "\n",
      "When I mentioned the Holocaust, she appeared reticent, but at that moment an inner self took control. Almost by instinct, I offered to help patients who are different from myself. She gave me great insight into social development challenges and develop efficient ways to improve my own heroic actions of enthusiastic community service, whether it be discovering the best fluoride-free water, finding the ideal amount of sunlight, or reading that he entrusted me with the San Diego Marlins. At that moment, I realized I knew from my wife, encouraged me to the U.S. that struggle every day at school. It allows members of the object in front of you,” my art teacher loaned me a deep and stirring sense of invincibility were not the typical habitat for strawberry plants, I knew no one would follow me. I forged alliances, and realigned them as necessary. Sometimes, I was mediocre. However, through long car rides with family, good-natured yet heated competitions with friends, logical strategy, and time, I became proficient at Twenty Questions, always succeeding is impossible; however, by persevering through difficulties and obstacles, favorable outcomes are often attainable. As I mentioned the Holocaust, she appeared reticent, but at that moment an inner self took control. Almost by instinct, I offered to help those who believe in the way the now 34 year-old James would have been in this field at the swastika through my tutoring sessions, I utilize a process of attending college. I did not choose?”\n",
      "\n",
      "The question caught me off guard, much like 20Q, I will prove that I recognize the importance of earning a college education.\n",
      "\n",
      "Before the accident I was disturbed by the microphone, resonated in my relationships with these questions as I strive relentlessly to confront the stereotypes of gender roles and female inferiority, volunteering to work less and focus more on my major and Recreation Administration minor to improve myself and will in turn help me pay for any intimidating food critic. Similarly, Hopkins’s academic diversity lives up to me left and right, telling me to new cultures and new places. Our travels all over town on weekends. I like to think ambiguously. Looking back, I am very passionate about information technology skills combined with strong business background to help those who believe in giving back to health. Stanley regained his strength and shortly after the 1989elections. For example, I cofounded an Indian reservation located near my uncle's ranch in southwest Colorado. I wrote of the people have a positive attitude that comes in handy when communicating with others. I definitely don’t expect perfect fairness. So what if our dining room table only has six chairs for seven people? Someone learns the importance of punctuality every night.\n",
      "\n",
      "But more than just its quirky face value. It’s synonymous with many of the human experience that has helped me become a better and more importantly, their voice is being heard. This attention is a cliché to say that I broke my leg. The incident has allowed me to think ambiguously. Looking back, I am ambidextrous.\n",
      "---------------------------------------------------------\n",
      "\n",
      "\n",
      "I am a free clinic where affordable medical regardless of their home.\n",
      "\n",
      "Within a matter of days I discovered that I presented myself to the opportunities given to me, ones I cannot confine any longer.\n",
      "\n",
      "I am real and I will take the technical and theoretical knowledge from my green-thumbed mother that strawberries are among the easiest fruits to grow. And much like 20Q, I began to play with people when learning a vast number of lessons along the way. In my youth, I wasted the value of higher education the way a piece of paper,” is what an uninformed person might say, someone who has never interacted with anything so large, and I needed to achieve their technology and how it can be viewed, and perhaps rightly so at times, as a seemingly improbable idea fed my passion and career objective: preserving the environment and protecting our resources.\n",
      "\n",
      "Since my discovery, I have worked with me to pursue my endeavors. His story taught me how to answer. I knew the answer. I knew then and there was no longer have to tie strips of fabric onto public buses to know about my experience going to an observant spectator, I began to play with people who know me have no recollection of having binocular vision, so depth perception has always been assisting others and trying to overlook the Middle Eastern and Islamic world. Ironically, my best so that I strongly denounced. I could not possibly receive its basic necessities in a game of flamingo croquet. Braving these adventures instilled in me a piece of paper individually. I folded my thousandth paper crane. Holding that delicate bird, I was ill-prepared. I was actually quite surprised that a high level”. I consider myself a great scholar because I am ambidextrous.\n",
      "---------------------------------------------------------\n",
      "\n",
      "\n",
      "I am trying to create a hot and moist environment, making the plants experience the proper light cycles. I also taught at the lunch table and family gatherings, and whenever the opportunity to spend more time on mastering the courses. Therefore, I am applying to in the summer after eighth grade. On “brain rest” for a rapidly urbanizing world.\n",
      "\n",
      "Hopkins’ professors are change agents whose research connects structural engineering challenges to economic and environmental considerations. I am fascinated by Professor Butler. I intend to continue to tell my story. I look forward to hearing from you soon.\n",
      "---------------------------------------------------------\n",
      "\n",
      "\n",
      "I am not alone on the Dean’s Honors List. Despite my subsequent operations, I have given away cranes to my native knowledge of Ebola’s pathology, I had been witness to my community by hosting an English-language book club. This book club will aim to continue taking solos in jazz band. And in the deluge of admissions pamphlets; that’s because I am facing more challenges on financial need. As a senior in Petroleum Engineering, I wish to spend more time on my new knowledge of the children’s stories with me. These young children had suffered in ways that were foreign to me, ones I cannot accept the fact that I became a starter for my skills. With Cooper Union’s Summer STEM Program, I explored through AP Physics and LC’s Robotics Team. My design, assembly, and programming capabilities compelled me to read the page in front of an interconnected global community.\n",
      "\n",
      "The world-class faculty, cutting-edge labs, global student community, and innumerable research opportunities provided by the people sitting in the beauty of their home.\n",
      "\n",
      "Within a matter of days I discovered artificial intelligence, more specifically, artificial neural networks—systems which learn and improve themselves. This idea fascinated me. I am optimistic for the role of Cho Chang. What took the responsibility of creating change granting me victory. Being elected president has strengthened my ability to pursue the career of my father's example. He has bestowed upon me a sense of invincibility that pushed me to publish an updated and more importantly, makes us feel, and more importantly, makes us feel, and more importantly, their voice is being heard. This attention is a catalyst for such growth.\n",
      "\n",
      "Admittedly, medieval studies can be tracked, stored, and broken down into a looking glass. Now, years later, I signed up for spring sports. I announce birthdays and other special events. Before every day, I make sure that everyone has at least body bags allowed people to care for family and neighbors without inviting the spread of Ebola. Doing nothing was genocide, with generations of families disappearing overnight. The images haunted me, lifeless bodies in dirt, oblivious to the opportunities given to me, ones I cannot confine any longer.\n",
      "\n",
      "I am real and I plan to lead those around me, I look forward to this internship, I discovered that my mom focus on her hair-styling business, I later took over the open drawer brimming with origami pieces in a multitude of factors and it was there, barring me in Laredo. Then, I realized I knew no one would follow me. I am well-adapted and prepared to succeed and achieve at the crossroads. Sublimation meets moral obligation, and taunted are we as we weight them head-to-head. For two years now, the NCHS chapter of buildOn has accomplished many great things. But did we do the right thing? I think about it in person was an entirely different story. My heart started to sting as images of skeletal bodies and families torn apart raced through my university’s Take 5 Scholars Program and with your assistance, I can. I believe in the car. My fingers were permanently sticky from the market because she’ll be able to provide nutrition education to support myself. However, with the college kids to clean up. Not until we were stranded did we do the right balance between making a contribution and raising awareness while maximizing the ultimate benefit to the public. And I found that the same straw-thatched, mud-brick homes of host families, of learning bits and pieces of the month, I work a typical 8-5 day during my summer with people who know me have no recollection of having Stanley is that he uses a form of electrical signaling to improve my own observations. This was the lock on the outside of class.\n",
      "\n",
      "I was taking a composition class, and we shared many laughs at my school.\n",
      "\n",
      "For billions of years, Earth’s structure and composition has developed to maintain a well-balanced lifestyle by pursuing the pleasures in life: spending time with friends and family with scientific facts about manatees-- such as tardiness and smoking. I found nothing. Sure, there were some sad moments in my education to date. I may have been changed. The next readers tell jokes or riddles, or sing songs and invite others to sing with them. I watch the announcements have been changed. The next readers tell jokes or riddles, or sing songs and invite others to sing with them. I watch the announcements have been in this world of fantasy, there is no less hopeful or less promising than the previous four. Soon, I will harness JHU’s multidimensional platform to fulfill my goals, the expensive cost of some online courses and certification programs which I was faced with the unlike and to produce clean energy. I want to go the extra mile now that I’m home. They fuel my passion was reinvigorated. One month before the end of class. The rest don’t realize I “do more than just its quirky face value. It’s synonymous with many of the world.\n",
      "\n",
      "Shifting from being front and center to an Indian reservation located near my uncle's ranch in southwest Colorado. I wrote of the most dismal time of year, I folded cranes at home, between classes, and in the United States Senate Youth Program.\n",
      "\n",
      "“Does it think deeply?”\n",
      "\n",
      "“Yes.”\n",
      "\n",
      "So far, I have already done some of this is not the kinds of pain I had imagined becoming a marine biologist, working directly with the scholarship requirements, and I can say. The loud buzz of the people have a great character to join this prestigious organization.\n",
      "---------------------------------------------------------\n",
      "\n",
      "\n"
     ]
    }
   ],
   "source": [
    "for story in stories:\n",
    "    print(\" \".join(INIT_STATE), story)\n",
    "    print(\"---------------------------------------------------------\")\n",
    "    print(\"\\n\")"
   ]
  },
  {
   "cell_type": "code",
   "execution_count": null,
   "metadata": {},
   "outputs": [],
   "source": []
  },
  {
   "cell_type": "code",
   "execution_count": null,
   "metadata": {},
   "outputs": [],
   "source": []
  }
 ],
 "metadata": {
  "kernelspec": {
   "display_name": "Python 3",
   "language": "python",
   "name": "python3"
  },
  "language_info": {
   "codemirror_mode": {
    "name": "ipython",
    "version": 3
   },
   "file_extension": ".py",
   "mimetype": "text/x-python",
   "name": "python",
   "nbconvert_exporter": "python",
   "pygments_lexer": "ipython3",
   "version": "3.6.5"
  }
 },
 "nbformat": 4,
 "nbformat_minor": 2
}
